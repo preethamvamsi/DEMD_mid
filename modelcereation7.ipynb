from sklearn.datasets import load_diabetes
from sklearn.linear_model import LinearRegression
from sklearn.model_selection import train_test_split

pip install pickle

pip install sklearn

diabetes_data = load_diabetes()

diabetes_data

diabetes_data.data

diabetes_data.target

diabetes_data.data.shape

diabetes_data.target.shape



X_train, X_test, y_train, y_test = train_test_split(diabetes_data.data, diabetes_data.target, test_size = 0.3, random_state = 2 )

LR_model = LinearRegression(fit_intercept=True,n_jobs=4)

LR_model.fit(X_train,y_train)

LR_model.predict(X_test)

score = LR_model.score(X_test,y_test)

print(f"Test score is {round(score*100,2)}")

### Saving the model

import pickle

ls

with open("pickle_diabetes_model.pkl", "wb") as file :
    pickle.dump(LR_model, file)

ls

with open ("pickle_diabetes_model.pkl", "rb") as f:
    Pickled_model_file = pickle.load(f)
    

round(Pickled_model_file.score(X_test, y_test)*100, 2)

Pickled_model_file.predict([[0.03807591,0.03807591,0.03807591,0.03807591,0.03807591,0.03807591,0.03807591,0.03807591,0.03807591,0.03807591]])


